{
 "cells": [
  {
   "cell_type": "code",
   "execution_count": 1,
   "metadata": {},
   "outputs": [
    {
     "name": "stderr",
     "output_type": "stream",
     "text": [
      "/home/francesco/anaconda3/lib/python3.6/site-packages/h5py/__init__.py:36: FutureWarning: Conversion of the second argument of issubdtype from `float` to `np.floating` is deprecated. In future, it will be treated as `np.float64 == np.dtype(float).type`.\n",
      "  from ._conv import register_converters as _register_converters\n"
     ]
    }
   ],
   "source": [
    "import pickle\n",
    "import tensorflow as tf\n",
    "import numpy as np\n",
    "import math\n",
    "from sklearn.metrics import accuracy_score, precision_score, recall_score, roc_auc_score\n",
    "\n",
    "import src.network as network"
   ]
  },
  {
   "cell_type": "code",
   "execution_count": 2,
   "metadata": {},
   "outputs": [],
   "source": [
    "with open('./dumps/dump.pickle', 'rb') as handle:\n",
    "    dumped = pickle.load(handle)\n",
    "vocab = dumped[\"vocab\"]\n",
    "X_val, Y_val = dumped[\"X_val\"], dumped[\"Y_val\"]"
   ]
  },
  {
   "cell_type": "code",
   "execution_count": 3,
   "metadata": {},
   "outputs": [],
   "source": [
    "current_model_name = \"model-0.0001-0.0001-1.0-64-32-128\"\n",
    "\n",
    "splitted = current_model_name.split(\"-\")\n",
    "embedding_size = int(splitted[4])\n",
    "hidden_cells = int(splitted[6])\n",
    "\n",
    "# Reset TF graph\n",
    "tf.reset_default_graph()\n",
    "\n",
    "# Placeholders\n",
    "tensor_X = tf.placeholder(tf.int32, (None, dumped[\"X_train\"].shape[1]), 'inputs')\n",
    "tensor_Y = tf.placeholder(tf.int32, (None, None), 'outputs')\n",
    "keep_prob = tf.placeholder(tf.float32, (None), 'dropout_keep')\n",
    "\n",
    "logits, mask, sequence_length = network.create_network(tensor_X, \n",
    "                                                       tensor_Y, \n",
    "                                                       keep_prob, \n",
    "                                                       vocab, \n",
    "                                                       embedding_size, \n",
    "                                                       hidden_cells, \n",
    "                                                       None)\n",
    "\n",
    "scores = tf.nn.softmax(logits)\n",
    "predictions = tf.to_int32(tf.argmax(scores, axis=2))\n",
    "accuracy = tf.contrib.metrics.accuracy(predictions, tensor_Y, weights=mask)"
   ]
  },
  {
   "cell_type": "code",
   "execution_count": 4,
   "metadata": {},
   "outputs": [
    {
     "name": "stdout",
     "output_type": "stream",
     "text": [
      "INFO:tensorflow:Restoring parameters from ./checkpoints/model-0.0001-0.0001-1.0-64-32-128.ckpt\n",
      "\n",
      "0.695\n",
      "0.398\n",
      "0.354\n",
      "0.584\n"
     ]
    }
   ],
   "source": [
    "with tf.Session() as sess:\n",
    "    saver = tf.train.Saver()\n",
    "    sess.run(tf.global_variables_initializer())\n",
    "    sess.run(tf.local_variables_initializer())\n",
    "    saver.restore(sess, \"./checkpoints/{}.ckpt\".format(current_model_name)) \n",
    "    \n",
    "\n",
    "    pred_scores, lengths, pred = sess.run([scores, sequence_length, predictions], feed_dict={\n",
    "                                                                                tensor_X: X_val,\n",
    "                                                                                tensor_Y: Y_val,\n",
    "                                                                                keep_prob: 1.0  })\n",
    "\n",
    "final_pred, final_true = np.array([]), np.array([])\n",
    "for i in range(len(Y_val)):\n",
    "    final_pred = np.append(final_pred, pred[i][:lengths[i]])\n",
    "    final_true = np.append(final_true, Y_val[i][:lengths[i]])\n",
    "    \n",
    "print()\n",
    "print(round(accuracy_score(final_true, final_pred), 3))\n",
    "print(round(precision_score(final_true, final_pred), 3))\n",
    "print(round(recall_score(final_true, final_pred), 3))\n",
    "print(round(roc_auc_score(final_true, final_pred), 3))"
   ]
  },
  {
   "cell_type": "code",
   "execution_count": 7,
   "metadata": {},
   "outputs": [
    {
     "name": "stdout",
     "output_type": "stream",
     "text": [
      "INFO:tensorflow:Restoring parameters from ./checkpoints/model-0.0001-0.0001-1.0-64-32-128.ckpt\n",
      "\n",
      "Accuracy :0.6941333846042748 +- 0.0004966151316338885\n",
      "Precision :0.4000419311266215 +- 0.0009087462057440703\n",
      "Recall :0.3547208608826038 +- 0.0011087808929558251\n",
      "AUC :0.583809876677336 +- 0.0004098295728779245\n"
     ]
    }
   ],
   "source": [
    "# BOOTSTRAPING\n",
    "nSamples = 1000\n",
    "accuracy_set, precision_set, recall_set, auc_set = [], [], [], []\n",
    "\n",
    "with tf.Session() as sess:\n",
    "    saver = tf.train.Saver()\n",
    "    sess.run(tf.global_variables_initializer())\n",
    "    sess.run(tf.local_variables_initializer())\n",
    "    saver.restore(sess, \"./checkpoints/{}.ckpt\".format(current_model_name)) \n",
    "    \n",
    "    for i in range(nSamples):\n",
    "        \n",
    "        pos_indices = np.random.choice(len(X_val), len(X_val), replace=True)\n",
    "        X_val_selected = X_val[pos_indices]\n",
    "        Y_val_selected = Y_val[pos_indices]\n",
    "        \n",
    "        pred_scores, lengths, pred = sess.run([scores, sequence_length, predictions], feed_dict={\n",
    "                                                                            tensor_X: X_val_selected,\n",
    "                                                                            tensor_Y: Y_val_selected,\n",
    "                                                                            keep_prob: 1.0  })\n",
    "                \n",
    "        final_pred, final_true = np.array([]), np.array([])\n",
    "        for i in range(len(Y_val_selected)):\n",
    "            final_pred = np.append(final_pred, pred[i][:lengths[i]])\n",
    "            final_true = np.append(final_true, Y_val_selected[i][:lengths[i]])\n",
    "\n",
    "        accuracy_set.append(accuracy_score(final_true, final_pred))\n",
    "        precision_set.append(precision_score(final_true, final_pred))\n",
    "        recall_set.append(recall_score(final_true, final_pred))\n",
    "        auc_set.append(roc_auc_score(final_true, final_pred))\n",
    "\n",
    "\n",
    "accuracy_mean = np.mean(np.array(accuracy_set))\n",
    "precision_mean = np.mean(np.array(precision_set))\n",
    "recall_mean = np.mean(np.array(recall_set))\n",
    "auc_mean = np.mean(np.array(auc_set))\n",
    "\n",
    "totAcc, totPre, totRec, totAUC = 0, 0, 0, 0\n",
    "for i in range(len(accuracy_set)):\n",
    "    totAcc += ((accuracy_set[i]-accuracy_mean)**2)\n",
    "    totPre += ((precision_set[i]-precision_mean)**2)\n",
    "    totRec += ((recall_set[i]-recall_mean)**2)\n",
    "    totAUC += ((auc_set[i]-auc_mean)**2)\n",
    "\n",
    "print(\"\\nAccuracy :\" + str(accuracy_mean) + \" +- \" + str(math.sqrt(totAcc/(nSamples))/math.sqrt((nSamples - 1))))\n",
    "print(\"Precision :\" + str(precision_mean) + \" +- \" + str(math.sqrt(totPre/(nSamples))/math.sqrt((nSamples - 1))))\n",
    "print(\"Recall :\" + str(recall_mean) + \" +- \" + str(math.sqrt(totRec/(nSamples))/math.sqrt((nSamples - 1))))\n",
    "print(\"AUC :\" + str(auc_mean) + \" +- \" + str(math.sqrt(totAUC/(nSamples))/math.sqrt((nSamples - 1))))"
   ]
  }
 ],
 "metadata": {
  "kernelspec": {
   "display_name": "Python 3",
   "language": "python",
   "name": "python3"
  },
  "language_info": {
   "codemirror_mode": {
    "name": "ipython",
    "version": 3
   },
   "file_extension": ".py",
   "mimetype": "text/x-python",
   "name": "python",
   "nbconvert_exporter": "python",
   "pygments_lexer": "ipython3",
   "version": "3.6.4"
  }
 },
 "nbformat": 4,
 "nbformat_minor": 2
}
