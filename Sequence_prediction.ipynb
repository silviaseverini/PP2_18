{
 "cells": [
  {
   "cell_type": "code",
   "execution_count": 51,
   "metadata": {},
   "outputs": [],
   "source": [
    "import biovec\n",
    "import numpy as np\n",
    "\n",
    "from sklearn.neural_network import MLPClassifier\n",
    "from sklearn.model_selection import StratifiedKFold, GridSearchCV\n",
    "from sklearn.metrics import accuracy_score, precision_score, recall_score, roc_auc_score"
   ]
  },
  {
   "cell_type": "code",
   "execution_count": 2,
   "metadata": {
    "scrolled": true
   },
   "outputs": [
    {
     "data": {
      "text/plain": [
       "'pv = biovec.ProtVec(\"uniprot_sprot.fasta\", \\n                    n=3,\\n                    size=100,\\n                    window=5,\\n                    sg=1,\\n                    min_count=2, \\n                    out=\"output_corpusfile_path.txt\")'"
      ]
     },
     "execution_count": 2,
     "metadata": {},
     "output_type": "execute_result"
    }
   ],
   "source": [
    "# Generating corpus file from fasta file\n",
    "'''pv = biovec.ProtVec(\"uniprot_sprot.fasta\", \n",
    "                    n=3,\n",
    "                    size=100,\n",
    "                    window=5,\n",
    "                    sg=1,\n",
    "                    min_count=2, \n",
    "                    out=\"output_corpusfile_path.txt\")'''"
   ]
  },
  {
   "cell_type": "code",
   "execution_count": 3,
   "metadata": {},
   "outputs": [],
   "source": [
    "#pv[\"QAT\"]\n",
    "#pv.to_vecs(\"ATATQSQSMTEEL\")\n",
    "#pv.save('model_file_path')\n",
    "\n",
    "#pv2 = biovec.models.load_protvec('model_file_path')"
   ]
  },
  {
   "cell_type": "code",
   "execution_count": null,
   "metadata": {},
   "outputs": [],
   "source": []
  },
  {
   "cell_type": "code",
   "execution_count": null,
   "metadata": {},
   "outputs": [],
   "source": []
  },
  {
   "cell_type": "code",
   "execution_count": 52,
   "metadata": {},
   "outputs": [],
   "source": [
    "# Prepare dataset for prediction\n",
    "protein_names, sequences, labels = [], [], []\n",
    "\n",
    "\n",
    "'''\n",
    "    Labels:\n",
    "        \"+\" stands for \"binding protein\" => 1\n",
    "        \"-\" stands for \"non-binding\" => 0\n",
    "'''\n",
    "def convert_label(label_string):\n",
    " \n",
    "    if label_string == \"+\":\n",
    "        return 1\n",
    "    elif label_string == \"-\":\n",
    "        return 0\n",
    "    else:\n",
    "        return None\n",
    "\n",
    "    \n",
    "# Open file containing dataset    \n",
    "with open('./ppi_data.fasta') as f:\n",
    "    lines = f.read().splitlines()\n",
    "    \n",
    "    for i in range(len(lines)):\n",
    "        \n",
    "        if i % 3 == 0:\n",
    "            protein_names.append(lines[i])\n",
    "        elif i % 3 == 1:\n",
    "            sequences.append(lines[i])\n",
    "        elif i % 3 == 2:\n",
    "            labels.append([convert_label(letter) for letter in lines[i]])\n",
    "        \n",
    "        # Debug\n",
    "        if i > 10:\n",
    "            break\n",
    "            \n",
    "            \n",
    "protein_names = np.array(protein_names)\n",
    "sequences = np.array(sequences)\n",
    "labels = np.array(labels)\n",
    "\n",
    "assert(protein_names.shape[0] == sequences.shape[0] == labels.shape[0])"
   ]
  },
  {
   "cell_type": "code",
   "execution_count": null,
   "metadata": {},
   "outputs": [],
   "source": [
    "# Cross validation in 10-Folds\n",
    "\n",
    "# !!! Dummy data !!!!\n",
    "X = np.array([[0,0], [1,1], [2,2], [0,0], [1,1], [2,2], [0,0], [1,1], [2,2], [0,0], [1,1], [2,2], [0,0], [1,1], [2,2],\n",
    "             [0,0], [1,1], [2,2], [0,0], [1,1], [2,2], [0,0], [1,1], [2,2], [0,0], [1,1], [2,2], [0,0], [1,1], [2,2]])\n",
    "y = np.array([0, 0, 1, 1, 0, 0, 1, 0, 0, 1, 0, 0, 1, 1, 0, 0, 0, 1, 1, 0, 0, 1, 0, 0, 1, 0, 0, 1, 1, 0])\n",
    "\n",
    "skf = StratifiedKFold(n_splits=10, random_state=42)\n",
    "skf.get_n_splits(X, y)\n",
    "\n",
    "for train_index, test_index in skf.split(X, y):\n",
    "    print(\"TRAIN indeces:\", train_index, \"TEST:\", test_index)\n",
    "    X_train, X_test = X[train_index], X[test_index]\n",
    "    y_train, y_test = y[train_index], y[test_index]"
   ]
  },
  {
   "cell_type": "code",
   "execution_count": 19,
   "metadata": {},
   "outputs": [],
   "source": [
    "# Define one layer fully connected NN \n",
    "'''mlp = MLPClassifier(hidden_layer_sizes=(100),\n",
    "                    learning_rate_init=0.001,\n",
    "                    max_iter=200,\n",
    "                    random_state=42)'''\n",
    "\n",
    "\n",
    "hyperparameters = {\n",
    "    'hidden_layer_sizes': [(25), (50), (100)],\n",
    "    'learning_rate_init': [0.01, 0.001],\n",
    "    'max_iter': [100, 200, 500]\n",
    "}\n",
    "\n",
    "estimator = GridSearchCV(\n",
    "    MLPClassifier(random_state=42),\n",
    "    param_grid=hyperparameters, \n",
    "    n_jobs=-1)"
   ]
  },
  {
   "cell_type": "code",
   "execution_count": null,
   "metadata": {},
   "outputs": [],
   "source": [
    "#estimator.fit(X_train, y_train)\n",
    "\n",
    "#predictions = estimator.predict(X_test)"
   ]
  },
  {
   "cell_type": "code",
   "execution_count": null,
   "metadata": {},
   "outputs": [],
   "source": [
    "# TODO\n",
    "# accuracy, precision, recall, AUC\n",
    "\n",
    "#accuracy_score(y_true, y_pred)\n",
    "#precision_score(y_true, y_pred)\n",
    "#recall_score(y_true, y_pred, average='micro')\n",
    "#roc_auc_score(y_true, y_scores)"
   ]
  }
 ],
 "metadata": {
  "kernelspec": {
   "display_name": "Python 3",
   "language": "python",
   "name": "python3"
  },
  "language_info": {
   "codemirror_mode": {
    "name": "ipython",
    "version": 3
   },
   "file_extension": ".py",
   "mimetype": "text/x-python",
   "name": "python",
   "nbconvert_exporter": "python",
   "pygments_lexer": "ipython3",
   "version": "3.6.4"
  }
 },
 "nbformat": 4,
 "nbformat_minor": 2
}
