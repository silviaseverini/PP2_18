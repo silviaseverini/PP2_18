{
 "cells": [
  {
   "cell_type": "code",
   "execution_count": 1,
   "metadata": {},
   "outputs": [],
   "source": [
    "import biovec\n",
    "import numpy as np\n",
    "\n",
    "from sklearn.neural_network import MLPClassifier\n",
    "from sklearn.model_selection import StratifiedKFold, GridSearchCV\n",
    "from sklearn.metrics import accuracy_score, precision_score, recall_score, roc_auc_score"
   ]
  },
  {
   "cell_type": "code",
   "execution_count": 2,
   "metadata": {},
   "outputs": [
    {
     "data": {
      "text/plain": [
       "'model = biovec.ProtVec(corpus_fname=\"uniprot_sprot.fasta\", \\n                    n=3,\\n                    size=100,\\n                    window=5,\\n                    sg=1,\\n                    min_count=2)\\n    \\nmodel.save(\\'./saved_model\\')'"
      ]
     },
     "execution_count": 2,
     "metadata": {},
     "output_type": "execute_result"
    }
   ],
   "source": [
    "# TASK 1 - Generating corpus file from fasta file and train word2vec\n",
    "'''model = biovec.ProtVec(corpus_fname=\"uniprot_sprot.fasta\", \n",
    "                    n=3,\n",
    "                    size=100,\n",
    "                    window=5,\n",
    "                    sg=1,\n",
    "                    min_count=2)\n",
    "    \n",
    "model.save('./saved_model')'''"
   ]
  },
  {
   "cell_type": "code",
   "execution_count": 3,
   "metadata": {},
   "outputs": [],
   "source": [
    "# Load saved model\n",
    "pv = biovec.models.load_protvec('./saved_model')\n",
    "\n",
    "#pv = biovec.models.load_protvec(\"swissprot-reviewed.model\")"
   ]
  },
  {
   "cell_type": "code",
   "execution_count": 4,
   "metadata": {},
   "outputs": [
    {
     "name": "stdout",
     "output_type": "stream",
     "text": [
      "0.031409058550162516\n",
      "0.03140905624381981\n"
     ]
    },
    {
     "name": "stderr",
     "output_type": "stream",
     "text": [
      "/home/francesco/anaconda3/lib/python3.6/site-packages/ipykernel_launcher.py:8: DeprecationWarning: Call to deprecated `__getitem__` (Method will be removed in 4.0.0, use self.wv.__getitem__() instead).\n",
      "  \n"
     ]
    }
   ],
   "source": [
    "from scipy import spatial\n",
    "from numpy import dot\n",
    "from numpy.linalg import norm\n",
    "\n",
    "AAA = \"-0.40824547 -0.071329094 -0.064001456 -0.05630998 -0.2195283 0.009979812 0.17874652 0.08375562 0.027502276 -0.07130323 0.006456163 0.0030929213 0.08790806 0.0032573056 -0.0698815 0.0905431 0.15583898 0.110263005 -0.22512965 -0.001306174 -0.109739184 0.063375674 0.32993525 0.13893794 -0.036341757 0.03819593 0.14535004 -0.0073543214 0.13369273 -0.1429071 -0.16775587 -0.041495405 0.13457869 -0.12228688 -0.10785071 0.0071128756 0.22321464 -0.058188416 0.20746201 0.03532325 -0.019520825 -0.059025783 0.295711 0.1075264 0.13401115 -0.3459603 0.035944186 0.13798769 -0.115936905 -0.032773007 -0.13372639 0.14214544 -0.30464968 -0.10083931 -0.0861974 -0.38257608 -0.0012935519 -0.01750991 0.01609032 0.16624023 -0.11012829 0.18223743 -0.04707044 0.07104323 -0.23681891 -0.3489856 -0.0397025 0.15314193 -0.05234596 0.087228335 0.047370806 0.025876798 0.25509173 -0.042357408 -0.37494487 0.08057458 0.042824224 -0.19328211 0.19914825 0.009554409 0.16090411 0.16013925 0.14780127 -0.39027962 0.41453123 0.030759456 -0.25644022 0.30203447 -0.1973766 0.19089536 -0.14282611 -0.36060184 -0.03375458 0.008354174 0.11964532 -0.18391272 0.35435116 -0.1552305 0.13506724 -0.13348278\"\n",
    "tmp = AAA.split(\" \")\n",
    "a = [float(i) for i in tmp]\n",
    "b = pv[\"LRX\"]\n",
    "\n",
    "result = 1 - spatial.distance.cosine(a, b)\n",
    "print(result)\n",
    "\n",
    "cos_sim = dot(a, b)/(norm(a)*norm(b))\n",
    "print(cos_sim)"
   ]
  },
  {
   "cell_type": "code",
   "execution_count": 5,
   "metadata": {},
   "outputs": [
    {
     "name": "stdout",
     "output_type": "stream",
     "text": [
      ">P0A8Q6\n",
      "MGKTNDWLDFDQLAEEKVRDALKPPSMYKVILVNDDYTPMEFVIDVLQKFFSYDVERATQLMLAVHYQGKAICGVFTAEVAETKVAMVNKYARENEHPLLCTLEKA\n",
      "[0, 0, 0, 0, 1, 1, 1, 1, 1, 1, 1, 1, 1, 0, 0, 0, 0, 1, 0, 1, 1, 1, 1, 1, 1, 1, 1, 1, 0, 0, 0, 0, 0, 0, 0, 0, 0, 0, 0, 0, 0, 0, 0, 0, 0, 0, 0, 1, 1, 1, 1, 1, 0, 0, 0, 0, 0, 0, 0, 0, 0, 0, 0, 0, 0, 0, 0, 0, 0, 0, 0, 0, 0, 0, 0, 1, 1, 1, 1, 1, 0, 1, 1, 1, 0, 1, 1, 0, 0, 0, 0, 0, 0, 0, 0, 0, 0, 0, 0, 0, 0, 0, 0, 0, 1, 0]\n"
     ]
    }
   ],
   "source": [
    "# Prepare dataset for prediction\n",
    "protein_names, sequences, labels = [], [], []\n",
    "\n",
    "\n",
    "'''\n",
    "    Labels:\n",
    "        \"+\" stands for \"binding protein\" => 1\n",
    "        \"-\" stands for \"non-binding\" => 0\n",
    "'''\n",
    "def convert_label(label_string):\n",
    " \n",
    "    if label_string == \"+\":\n",
    "        return 1\n",
    "    elif label_string == \"-\":\n",
    "        return 0\n",
    "    else:\n",
    "        return None\n",
    "\n",
    "    \n",
    "# Open file containing dataset    \n",
    "with open('./ppi_data.fasta') as f:\n",
    "    lines = f.read().splitlines()\n",
    "    \n",
    "    for i in range(len(lines)):\n",
    "        \n",
    "        if i % 3 == 0:\n",
    "            protein_names.append(lines[i])\n",
    "        elif i % 3 == 1:\n",
    "            sequences.append(lines[i])\n",
    "        elif i % 3 == 2:\n",
    "            labels.append([convert_label(letter) for letter in lines[i]])\n",
    "            \n",
    "protein_names = np.array(protein_names)\n",
    "sequences = np.array(sequences)\n",
    "labels = np.array(labels)\n",
    "\n",
    "assert(protein_names.shape[0] == sequences.shape[0] == labels.shape[0])\n",
    "\n",
    "print(protein_names[0])\n",
    "print(sequences[0])\n",
    "print(labels[0])"
   ]
  },
  {
   "cell_type": "markdown",
   "metadata": {},
   "source": [
    "### Example for sequence   M(VWL|N|GEP)RPLEG ...\n",
    "    - Window size 7\n",
    "    - Center letter is N\n",
    "    - Vec(VWLNGEP) = Vec(VWL) + Vec(WLN) + Vec(LNG) + Vec(NGE) + Vec(GEP)"
   ]
  },
  {
   "cell_type": "code",
   "execution_count": 6,
   "metadata": {},
   "outputs": [
    {
     "name": "stderr",
     "output_type": "stream",
     "text": [
      "/home/francesco/anaconda3/lib/python3.6/site-packages/ipykernel_launcher.py:16: DeprecationWarning: Call to deprecated `__getitem__` (Method will be removed in 4.0.0, use self.wv.__getitem__() instead).\n",
      "  app.launch_new_instance()\n"
     ]
    },
    {
     "name": "stdout",
     "output_type": "stream",
     "text": [
      "(89541, 100)\n",
      "(89541,)\n"
     ]
    }
   ],
   "source": [
    "window_size = 7\n",
    "vector_size = 100\n",
    "\n",
    "X, y = [], []\n",
    "\n",
    "# Iterates over all proteins in dataset\n",
    "for i in range(len(sequences)):\n",
    "\n",
    "    # Loop over sequence\n",
    "    for j in range(0,len(sequences[i]) - window_size + 1):\n",
    "        sub_sequence = sequences[i][j:j+window_size]\n",
    "\n",
    "        # Sum vectors of 3 grams\n",
    "        tmp = np.zeros(vector_size)\n",
    "        for k in range(0, window_size - 2):\n",
    "            tmp = tmp + np.array(pv[sub_sequence[k:k+3]])\n",
    "    \n",
    "        X.append(tmp)\n",
    "        y.append(labels[i][j+3])    \n",
    "        \n",
    "X, y = np.array(X), np.array(y)\n",
    "\n",
    "print(X.shape)\n",
    "print(y.shape)"
   ]
  },
  {
   "cell_type": "code",
   "execution_count": 7,
   "metadata": {},
   "outputs": [
    {
     "name": "stdout",
     "output_type": "stream",
     "text": [
      "TRAIN indeces: (80586,) TEST indeces: (8955,)\n"
     ]
    },
    {
     "name": "stderr",
     "output_type": "stream",
     "text": [
      "/home/francesco/anaconda3/lib/python3.6/site-packages/sklearn/neural_network/multilayer_perceptron.py:564: ConvergenceWarning: Stochastic Optimizer: Maximum iterations (100) reached and the optimization hasn't converged yet.\n",
      "  % self.max_iter, ConvergenceWarning)\n",
      "/home/francesco/anaconda3/lib/python3.6/site-packages/sklearn/neural_network/multilayer_perceptron.py:564: ConvergenceWarning: Stochastic Optimizer: Maximum iterations (100) reached and the optimization hasn't converged yet.\n",
      "  % self.max_iter, ConvergenceWarning)\n",
      "/home/francesco/anaconda3/lib/python3.6/site-packages/sklearn/neural_network/multilayer_perceptron.py:564: ConvergenceWarning: Stochastic Optimizer: Maximum iterations (100) reached and the optimization hasn't converged yet.\n",
      "  % self.max_iter, ConvergenceWarning)\n"
     ]
    },
    {
     "name": "stdout",
     "output_type": "stream",
     "text": [
      "{'hidden_layer_sizes': 25, 'learning_rate_init': 0.01, 'max_iter': 100}\n",
      "[0.7206030150753768]\n",
      "TRAIN indeces: (80586,) TEST indeces: (8955,)\n"
     ]
    },
    {
     "name": "stderr",
     "output_type": "stream",
     "text": [
      "/home/francesco/anaconda3/lib/python3.6/site-packages/sklearn/neural_network/multilayer_perceptron.py:564: ConvergenceWarning: Stochastic Optimizer: Maximum iterations (100) reached and the optimization hasn't converged yet.\n",
      "  % self.max_iter, ConvergenceWarning)\n",
      "/home/francesco/anaconda3/lib/python3.6/site-packages/sklearn/neural_network/multilayer_perceptron.py:564: ConvergenceWarning: Stochastic Optimizer: Maximum iterations (100) reached and the optimization hasn't converged yet.\n",
      "  % self.max_iter, ConvergenceWarning)\n",
      "/home/francesco/anaconda3/lib/python3.6/site-packages/sklearn/neural_network/multilayer_perceptron.py:564: ConvergenceWarning: Stochastic Optimizer: Maximum iterations (100) reached and the optimization hasn't converged yet.\n",
      "  % self.max_iter, ConvergenceWarning)\n",
      "/home/francesco/anaconda3/lib/python3.6/site-packages/sklearn/neural_network/multilayer_perceptron.py:564: ConvergenceWarning: Stochastic Optimizer: Maximum iterations (100) reached and the optimization hasn't converged yet.\n",
      "  % self.max_iter, ConvergenceWarning)\n"
     ]
    },
    {
     "name": "stdout",
     "output_type": "stream",
     "text": [
      "{'hidden_layer_sizes': 25, 'learning_rate_init': 0.01, 'max_iter': 100}\n",
      "[0.7206030150753768, 0.7221663874930206]\n",
      "TRAIN indeces: (80586,) TEST indeces: (8955,)\n"
     ]
    },
    {
     "name": "stderr",
     "output_type": "stream",
     "text": [
      "/home/francesco/anaconda3/lib/python3.6/site-packages/sklearn/neural_network/multilayer_perceptron.py:564: ConvergenceWarning: Stochastic Optimizer: Maximum iterations (100) reached and the optimization hasn't converged yet.\n",
      "  % self.max_iter, ConvergenceWarning)\n",
      "/home/francesco/anaconda3/lib/python3.6/site-packages/sklearn/neural_network/multilayer_perceptron.py:564: ConvergenceWarning: Stochastic Optimizer: Maximum iterations (100) reached and the optimization hasn't converged yet.\n",
      "  % self.max_iter, ConvergenceWarning)\n",
      "/home/francesco/anaconda3/lib/python3.6/site-packages/sklearn/neural_network/multilayer_perceptron.py:564: ConvergenceWarning: Stochastic Optimizer: Maximum iterations (100) reached and the optimization hasn't converged yet.\n",
      "  % self.max_iter, ConvergenceWarning)\n",
      "/home/francesco/anaconda3/lib/python3.6/site-packages/sklearn/neural_network/multilayer_perceptron.py:564: ConvergenceWarning: Stochastic Optimizer: Maximum iterations (100) reached and the optimization hasn't converged yet.\n",
      "  % self.max_iter, ConvergenceWarning)\n"
     ]
    },
    {
     "name": "stdout",
     "output_type": "stream",
     "text": [
      "{'hidden_layer_sizes': 25, 'learning_rate_init': 0.01, 'max_iter': 100}\n",
      "[0.7206030150753768, 0.7221663874930206, 0.7222780569514238]\n",
      "TRAIN indeces: (80586,) TEST indeces: (8955,)\n"
     ]
    },
    {
     "name": "stderr",
     "output_type": "stream",
     "text": [
      "/home/francesco/anaconda3/lib/python3.6/site-packages/sklearn/neural_network/multilayer_perceptron.py:564: ConvergenceWarning: Stochastic Optimizer: Maximum iterations (100) reached and the optimization hasn't converged yet.\n",
      "  % self.max_iter, ConvergenceWarning)\n",
      "/home/francesco/anaconda3/lib/python3.6/site-packages/sklearn/neural_network/multilayer_perceptron.py:564: ConvergenceWarning: Stochastic Optimizer: Maximum iterations (100) reached and the optimization hasn't converged yet.\n",
      "  % self.max_iter, ConvergenceWarning)\n",
      "/home/francesco/anaconda3/lib/python3.6/site-packages/sklearn/neural_network/multilayer_perceptron.py:564: ConvergenceWarning: Stochastic Optimizer: Maximum iterations (100) reached and the optimization hasn't converged yet.\n",
      "  % self.max_iter, ConvergenceWarning)\n",
      "/home/francesco/anaconda3/lib/python3.6/site-packages/sklearn/neural_network/multilayer_perceptron.py:564: ConvergenceWarning: Stochastic Optimizer: Maximum iterations (100) reached and the optimization hasn't converged yet.\n",
      "  % self.max_iter, ConvergenceWarning)\n"
     ]
    },
    {
     "name": "stdout",
     "output_type": "stream",
     "text": [
      "{'hidden_layer_sizes': 25, 'learning_rate_init': 0.01, 'max_iter': 100}\n",
      "[0.7206030150753768, 0.7221663874930206, 0.7222780569514238, 0.721608040201005]\n",
      "TRAIN indeces: (80587,) TEST indeces: (8954,)\n"
     ]
    },
    {
     "name": "stderr",
     "output_type": "stream",
     "text": [
      "/home/francesco/anaconda3/lib/python3.6/site-packages/sklearn/neural_network/multilayer_perceptron.py:564: ConvergenceWarning: Stochastic Optimizer: Maximum iterations (100) reached and the optimization hasn't converged yet.\n",
      "  % self.max_iter, ConvergenceWarning)\n",
      "/home/francesco/anaconda3/lib/python3.6/site-packages/sklearn/neural_network/multilayer_perceptron.py:564: ConvergenceWarning: Stochastic Optimizer: Maximum iterations (100) reached and the optimization hasn't converged yet.\n",
      "  % self.max_iter, ConvergenceWarning)\n",
      "/home/francesco/anaconda3/lib/python3.6/site-packages/sklearn/neural_network/multilayer_perceptron.py:564: ConvergenceWarning: Stochastic Optimizer: Maximum iterations (100) reached and the optimization hasn't converged yet.\n",
      "  % self.max_iter, ConvergenceWarning)\n",
      "/home/francesco/anaconda3/lib/python3.6/site-packages/sklearn/neural_network/multilayer_perceptron.py:564: ConvergenceWarning: Stochastic Optimizer: Maximum iterations (100) reached and the optimization hasn't converged yet.\n",
      "  % self.max_iter, ConvergenceWarning)\n",
      "/home/francesco/anaconda3/lib/python3.6/site-packages/sklearn/neural_network/multilayer_perceptron.py:564: ConvergenceWarning: Stochastic Optimizer: Maximum iterations (100) reached and the optimization hasn't converged yet.\n",
      "  % self.max_iter, ConvergenceWarning)\n"
     ]
    },
    {
     "name": "stdout",
     "output_type": "stream",
     "text": [
      "{'hidden_layer_sizes': 50, 'learning_rate_init': 0.01, 'max_iter': 100}\n",
      "[0.7206030150753768, 0.7221663874930206, 0.7222780569514238, 0.721608040201005, 0.7204601295510387]\n",
      "TRAIN indeces: (80587,) TEST indeces: (8954,)\n"
     ]
    },
    {
     "name": "stderr",
     "output_type": "stream",
     "text": [
      "/home/francesco/anaconda3/lib/python3.6/site-packages/sklearn/neural_network/multilayer_perceptron.py:564: ConvergenceWarning: Stochastic Optimizer: Maximum iterations (100) reached and the optimization hasn't converged yet.\n",
      "  % self.max_iter, ConvergenceWarning)\n",
      "/home/francesco/anaconda3/lib/python3.6/site-packages/sklearn/neural_network/multilayer_perceptron.py:564: ConvergenceWarning: Stochastic Optimizer: Maximum iterations (100) reached and the optimization hasn't converged yet.\n",
      "  % self.max_iter, ConvergenceWarning)\n"
     ]
    },
    {
     "name": "stdout",
     "output_type": "stream",
     "text": [
      "{'hidden_layer_sizes': 25, 'learning_rate_init': 0.01, 'max_iter': 100}\n",
      "[0.7206030150753768, 0.7221663874930206, 0.7222780569514238, 0.721608040201005, 0.7204601295510387, 0.7216886307795398]\n",
      "TRAIN indeces: (80587,) TEST indeces: (8954,)\n"
     ]
    },
    {
     "name": "stderr",
     "output_type": "stream",
     "text": [
      "/home/francesco/anaconda3/lib/python3.6/site-packages/sklearn/neural_network/multilayer_perceptron.py:564: ConvergenceWarning: Stochastic Optimizer: Maximum iterations (100) reached and the optimization hasn't converged yet.\n",
      "  % self.max_iter, ConvergenceWarning)\n",
      "/home/francesco/anaconda3/lib/python3.6/site-packages/sklearn/neural_network/multilayer_perceptron.py:564: ConvergenceWarning: Stochastic Optimizer: Maximum iterations (100) reached and the optimization hasn't converged yet.\n",
      "  % self.max_iter, ConvergenceWarning)\n",
      "/home/francesco/anaconda3/lib/python3.6/site-packages/sklearn/neural_network/multilayer_perceptron.py:564: ConvergenceWarning: Stochastic Optimizer: Maximum iterations (100) reached and the optimization hasn't converged yet.\n",
      "  % self.max_iter, ConvergenceWarning)\n",
      "/home/francesco/anaconda3/lib/python3.6/site-packages/sklearn/neural_network/multilayer_perceptron.py:564: ConvergenceWarning: Stochastic Optimizer: Maximum iterations (100) reached and the optimization hasn't converged yet.\n",
      "  % self.max_iter, ConvergenceWarning)\n"
     ]
    },
    {
     "name": "stdout",
     "output_type": "stream",
     "text": [
      "{'hidden_layer_sizes': 25, 'learning_rate_init': 0.01, 'max_iter': 100}\n",
      "[0.7206030150753768, 0.7221663874930206, 0.7222780569514238, 0.721608040201005, 0.7204601295510387, 0.7216886307795398, 0.7225820862184499]\n",
      "TRAIN indeces: (80588,) TEST indeces: (8953,)\n"
     ]
    },
    {
     "name": "stderr",
     "output_type": "stream",
     "text": [
      "/home/francesco/anaconda3/lib/python3.6/site-packages/sklearn/neural_network/multilayer_perceptron.py:564: ConvergenceWarning: Stochastic Optimizer: Maximum iterations (100) reached and the optimization hasn't converged yet.\n",
      "  % self.max_iter, ConvergenceWarning)\n",
      "/home/francesco/anaconda3/lib/python3.6/site-packages/sklearn/neural_network/multilayer_perceptron.py:564: ConvergenceWarning: Stochastic Optimizer: Maximum iterations (100) reached and the optimization hasn't converged yet.\n",
      "  % self.max_iter, ConvergenceWarning)\n",
      "/home/francesco/anaconda3/lib/python3.6/site-packages/sklearn/neural_network/multilayer_perceptron.py:564: ConvergenceWarning: Stochastic Optimizer: Maximum iterations (100) reached and the optimization hasn't converged yet.\n",
      "  % self.max_iter, ConvergenceWarning)\n",
      "/home/francesco/anaconda3/lib/python3.6/site-packages/sklearn/neural_network/multilayer_perceptron.py:564: ConvergenceWarning: Stochastic Optimizer: Maximum iterations (100) reached and the optimization hasn't converged yet.\n",
      "  % self.max_iter, ConvergenceWarning)\n"
     ]
    },
    {
     "name": "stdout",
     "output_type": "stream",
     "text": [
      "{'hidden_layer_sizes': 50, 'learning_rate_init': 0.01, 'max_iter': 100}\n",
      "[0.7206030150753768, 0.7221663874930206, 0.7222780569514238, 0.721608040201005, 0.7204601295510387, 0.7216886307795398, 0.7225820862184499, 0.7195353512789009]\n",
      "TRAIN indeces: (80588,) TEST indeces: (8953,)\n"
     ]
    },
    {
     "name": "stderr",
     "output_type": "stream",
     "text": [
      "/home/francesco/anaconda3/lib/python3.6/site-packages/sklearn/neural_network/multilayer_perceptron.py:564: ConvergenceWarning: Stochastic Optimizer: Maximum iterations (100) reached and the optimization hasn't converged yet.\n",
      "  % self.max_iter, ConvergenceWarning)\n",
      "/home/francesco/anaconda3/lib/python3.6/site-packages/sklearn/neural_network/multilayer_perceptron.py:564: ConvergenceWarning: Stochastic Optimizer: Maximum iterations (100) reached and the optimization hasn't converged yet.\n",
      "  % self.max_iter, ConvergenceWarning)\n",
      "/home/francesco/anaconda3/lib/python3.6/site-packages/sklearn/neural_network/multilayer_perceptron.py:564: ConvergenceWarning: Stochastic Optimizer: Maximum iterations (100) reached and the optimization hasn't converged yet.\n",
      "  % self.max_iter, ConvergenceWarning)\n"
     ]
    },
    {
     "name": "stdout",
     "output_type": "stream",
     "text": [
      "{'hidden_layer_sizes': 25, 'learning_rate_init': 0.01, 'max_iter': 100}\n",
      "[0.7206030150753768, 0.7221663874930206, 0.7222780569514238, 0.721608040201005, 0.7204601295510387, 0.7216886307795398, 0.7225820862184499, 0.7195353512789009, 0.7195353512789009]\n",
      "TRAIN indeces: (80588,) TEST indeces: (8953,)\n"
     ]
    },
    {
     "name": "stderr",
     "output_type": "stream",
     "text": [
      "/home/francesco/anaconda3/lib/python3.6/site-packages/sklearn/neural_network/multilayer_perceptron.py:564: ConvergenceWarning: Stochastic Optimizer: Maximum iterations (100) reached and the optimization hasn't converged yet.\n",
      "  % self.max_iter, ConvergenceWarning)\n",
      "/home/francesco/anaconda3/lib/python3.6/site-packages/sklearn/neural_network/multilayer_perceptron.py:564: ConvergenceWarning: Stochastic Optimizer: Maximum iterations (100) reached and the optimization hasn't converged yet.\n",
      "  % self.max_iter, ConvergenceWarning)\n",
      "/home/francesco/anaconda3/lib/python3.6/site-packages/sklearn/neural_network/multilayer_perceptron.py:564: ConvergenceWarning: Stochastic Optimizer: Maximum iterations (100) reached and the optimization hasn't converged yet.\n",
      "  % self.max_iter, ConvergenceWarning)\n"
     ]
    },
    {
     "name": "stdout",
     "output_type": "stream",
     "text": [
      "{'hidden_layer_sizes': 25, 'learning_rate_init': 0.01, 'max_iter': 100}\n",
      "[0.7206030150753768, 0.7221663874930206, 0.7222780569514238, 0.721608040201005, 0.7204601295510387, 0.7216886307795398, 0.7225820862184499, 0.7195353512789009, 0.7195353512789009, 0.7173014631966939]\n",
      "0.720775851202435\n",
      "0.5111729424570868\n",
      "0.720775851202435\n",
      "0.510207754657122\n"
     ]
    }
   ],
   "source": [
    "# Cross validation in 10-Folds\n",
    "skf = StratifiedKFold(n_splits=10, random_state=42, shuffle=True)\n",
    "skf.get_n_splits(X, y)\n",
    "\n",
    "\n",
    "hyperparameters = {\n",
    "    'hidden_layer_sizes': [(25), (50), (100)],\n",
    "    'learning_rate_init': [0.01, 0.001],\n",
    "    'max_iter': [100, 200, 500]\n",
    "}\n",
    "\n",
    "accuracy, precision, recall, auc = [], [], [], []\n",
    "\n",
    "for train_index, test_index in skf.split(X, y):\n",
    "    print(\"TRAIN indeces:\", train_index.shape, \"TEST indeces:\", test_index.shape)\n",
    "    X_train, X_test = X[train_index], X[test_index]\n",
    "    y_train, y_test = y[train_index], y[test_index]\n",
    "    \n",
    "    estimator = GridSearchCV(\n",
    "        MLPClassifier(random_state=42),\n",
    "        param_grid=hyperparameters, \n",
    "        n_jobs=-1,\n",
    "        verbose=0)\n",
    "    \n",
    "    # Training\n",
    "    estimator.fit(X_train, y_train)\n",
    "    print(estimator.best_params_)\n",
    "    \n",
    "    # Predict on test data\n",
    "    #predictions = estimator.predict(X_test)\n",
    "    predictions = estimator.best_estimator_.predict(X_test)\n",
    "\n",
    "    # Scores\n",
    "    accuracy.append(accuracy_score(y_test, predictions))\n",
    "    precision.append(precision_score(y_test, predictions))\n",
    "    recall.append(recall_score(y_test, predictions, average='micro'))\n",
    "    auc.append(roc_auc_score(y_test, predictions))\n",
    "    \n",
    "    print(accuracy)\n",
    "    \n",
    "    \n",
    "print(np.mean(np.array(accuracy)))\n",
    "print(np.mean(np.array(precision)))\n",
    "print(np.mean(np.array(recall)))\n",
    "print(np.mean(np.array(auc)))\n",
    "    "
   ]
  }
 ],
 "metadata": {
  "kernelspec": {
   "display_name": "Python 3",
   "language": "python",
   "name": "python3"
  },
  "language_info": {
   "codemirror_mode": {
    "name": "ipython",
    "version": 3
   },
   "file_extension": ".py",
   "mimetype": "text/x-python",
   "name": "python",
   "nbconvert_exporter": "python",
   "pygments_lexer": "ipython3",
   "version": "3.6.4"
  }
 },
 "nbformat": 4,
 "nbformat_minor": 2
}
